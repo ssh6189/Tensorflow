{
 "cells": [
  {
   "cell_type": "code",
   "execution_count": 1,
   "metadata": {},
   "outputs": [
    {
     "name": "stdout",
     "output_type": "stream",
     "text": [
      "200\n"
     ]
    }
   ],
   "source": [
    "import tensorflow as tf\n",
    "\n",
    "#변수 정의하기\n",
    "v = tf.Variable(0, name = 'v')\n",
    "\n",
    "#상수 정의하기\n",
    "a = tf.constant(10, name = '10')\n",
    "b = tf.constant(20, name = '20')\n",
    "\n",
    "#연산 정의하기\n",
    "mul_op = tf.multiply(a, b, name = 'mul')\n",
    "assign_op = tf.assign(v, mul_op)\n",
    "\n",
    "#세션 시작하기\n",
    "sess = tf.Session()\n",
    "\n",
    "#연산 실행하기\n",
    "sess.run(assign_op)\n",
    "\n",
    "#텐서보드로 그래프 출력하기\n",
    "tf.summary.FileWriter('./logs', sess.graph)\n",
    "\n",
    "#결과 추출하기\n",
    "res = sess.run(v)\n",
    "print(res)"
   ]
  }
 ],
 "metadata": {
  "kernelspec": {
   "display_name": "Python 3",
   "language": "python",
   "name": "python3"
  },
  "language_info": {
   "codemirror_mode": {
    "name": "ipython",
    "version": 3
   },
   "file_extension": ".py",
   "mimetype": "text/x-python",
   "name": "python",
   "nbconvert_exporter": "python",
   "pygments_lexer": "ipython3",
   "version": "3.7.7"
  }
 },
 "nbformat": 4,
 "nbformat_minor": 4
}
