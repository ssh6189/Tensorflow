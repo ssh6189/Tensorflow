{
 "cells": [
  {
   "cell_type": "code",
   "execution_count": 1,
   "metadata": {},
   "outputs": [
    {
     "name": "stdout",
     "output_type": "stream",
     "text": [
      "130\n"
     ]
    }
   ],
   "source": [
    "#텐서플로우 읽어 들이기\n",
    "import tensorflow as tf\n",
    "\n",
    "#상수 정의하기\n",
    "a = tf.constant(100)\n",
    "b = tf.constant(30)\n",
    "\n",
    "#연산 정의하기\n",
    "add_op = a + b\n",
    "\n",
    "#세션 시작하기\n",
    "sess = tf.Session()\n",
    "res = sess.run(add_op)\n",
    "print(res)"
   ]
  }
 ],
 "metadata": {
  "kernelspec": {
   "display_name": "Python 3",
   "language": "python",
   "name": "python3"
  },
  "language_info": {
   "codemirror_mode": {
    "name": "ipython",
    "version": 3
   },
   "file_extension": ".py",
   "mimetype": "text/x-python",
   "name": "python",
   "nbconvert_exporter": "python",
   "pygments_lexer": "ipython3",
   "version": "3.7.7"
  }
 },
 "nbformat": 4,
 "nbformat_minor": 4
}
