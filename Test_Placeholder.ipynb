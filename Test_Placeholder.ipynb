{
 "cells": [
  {
   "cell_type": "code",
   "execution_count": 1,
   "metadata": {},
   "outputs": [
    {
     "name": "stdout",
     "output_type": "stream",
     "text": [
      "[ 2  4  6  8 10]\n",
      "[ 10  12  14  20 200]\n"
     ]
    }
   ],
   "source": [
    "import tensorflow as tf\n",
    "\n",
    "#플레이스홀더 정의하기\n",
    "a = tf.placeholder(tf.int32, [5])\n",
    "\n",
    "#벡터를 2배 하는 연산 정의하기\n",
    "two = tf.constant(2)\n",
    "x2_op = a * two\n",
    "\n",
    "#세션 시작하기\n",
    "sess = tf.Session()\n",
    "\n",
    "#플레이스 홀더에 값을 넣어 실행하기\n",
    "res1 = sess.run(x2_op, feed_dict = {a:[1, 2, 3, 4, 5]})\n",
    "print(res1)\n",
    "res2 = sess.run(x2_op, feed_dict = {a:[5, 6, 7, 10, 100]})\n",
    "print(res2)"
   ]
  }
 ],
 "metadata": {
  "kernelspec": {
   "display_name": "Python 3",
   "language": "python",
   "name": "python3"
  },
  "language_info": {
   "codemirror_mode": {
    "name": "ipython",
    "version": 3
   },
   "file_extension": ".py",
   "mimetype": "text/x-python",
   "name": "python",
   "nbconvert_exporter": "python",
   "pygments_lexer": "ipython3",
   "version": "3.7.7"
  }
 },
 "nbformat": 4,
 "nbformat_minor": 4
}
