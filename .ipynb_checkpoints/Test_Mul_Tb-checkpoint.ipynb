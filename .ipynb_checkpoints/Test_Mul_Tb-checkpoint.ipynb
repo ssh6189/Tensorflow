{
 "cells": [
  {
   "cell_type": "code",
   "execution_count": 1,
   "metadata": {},
   "outputs": [
    {
     "name": "stdout",
     "output_type": "stream",
     "text": [
      "900\n"
     ]
    },
    {
     "data": {
      "text/plain": [
       "<tensorflow.python.summary.writer.writer.FileWriter at 0xf2e9d08>"
      ]
     },
     "execution_count": 1,
     "metadata": {},
     "output_type": "execute_result"
    }
   ],
   "source": [
    "import tensorflow as tf\n",
    "\n",
    "#상수 정의하기\n",
    "a = tf.constant(10, name = '10')\n",
    "b = tf.constant(20, name = '20')\n",
    "c = tf.constant(30, name = '30')\n",
    "\n",
    "#연산 정의하기\n",
    "add_op = tf.add(a, b, name = 'add')\n",
    "mul_op = tf.multiply(add_op, c, name = 'mul')\n",
    "\n",
    "#세션 시작하기\n",
    "sess = tf.Session()\n",
    "res = sess.run(mul_op)\n",
    "print(res)\n",
    "\n",
    "#텐서보드로 그래프 출력하기\n",
    "tf.summary.FileWriter('./logs', sess.graph)"
   ]
  }
 ],
 "metadata": {
  "kernelspec": {
   "display_name": "Python 3",
   "language": "python",
   "name": "python3"
  },
  "language_info": {
   "codemirror_mode": {
    "name": "ipython",
    "version": 3
   },
   "file_extension": ".py",
   "mimetype": "text/x-python",
   "name": "python",
   "nbconvert_exporter": "python",
   "pygments_lexer": "ipython3",
   "version": "3.7.7"
  }
 },
 "nbformat": 4,
 "nbformat_minor": 4
}
